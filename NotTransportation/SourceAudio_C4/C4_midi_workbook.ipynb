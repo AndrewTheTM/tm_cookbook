{
 "cells": [
  {
   "cell_type": "code",
   "execution_count": 17,
   "metadata": {},
   "outputs": [
    {
     "name": "stdout",
     "output_type": "stream",
     "text": [
      "['Microsoft GS Wavetable Synth 0', 'Source Audio C4 Synth       1']\n"
     ]
    }
   ],
   "source": [
    "import rtmidi\n",
    "\n",
    "# This simple proof-of-concept script opens a connection to the C4 Synth Pedal \n",
    "# and sets it to preset 8 (which is stored on the device) and sets the pedal \n",
    "# to active when set. \n",
    "\n",
    "midiout = rtmidi.MidiOut()\n",
    "available_ports = midiout.get_ports()\n",
    "print(available_ports)\n",
    "if available_ports:\n",
    "    midiout.open_port(1)\n",
    "else:\n",
    "    midiout.open_virtual_port(\"My virtual output\")\n",
    "\n",
    "with midiout:\n",
    "    msg = [0xb0, 104, 8] # address -1!\n",
    "    midiout.send_message(msg)\n",
    "    \n",
    "del midiout\n"
   ]
  }
 ],
 "metadata": {
  "kernelspec": {
   "display_name": "bass",
   "language": "python",
   "name": "python3"
  },
  "language_info": {
   "codemirror_mode": {
    "name": "ipython",
    "version": 3
   },
   "file_extension": ".py",
   "mimetype": "text/x-python",
   "name": "python",
   "nbconvert_exporter": "python",
   "pygments_lexer": "ipython3",
   "version": "3.9.16"
  },
  "orig_nbformat": 4
 },
 "nbformat": 4,
 "nbformat_minor": 2
}
